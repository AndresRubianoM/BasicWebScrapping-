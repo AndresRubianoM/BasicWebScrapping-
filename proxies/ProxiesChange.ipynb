{
 "cells": [
  {
   "cell_type": "code",
   "execution_count": 20,
   "metadata": {},
   "outputs": [],
   "source": [
    "import requests\n",
    "import re"
   ]
  },
  {
   "cell_type": "markdown",
   "metadata": {},
   "source": [
    "Where to look the real IP = http://www.cualesmiip.com/\n",
    "\n",
    "Where to look for free proxies https and socks = https://free-proxy-list.net/"
   ]
  },
  {
   "cell_type": "code",
   "execution_count": 27,
   "metadata": {},
   "outputs": [],
   "source": [
    "def get_ip(url = 'http://www.cualesmiip.com/', proxies = None):\n",
    "    \n",
    "    try:\n",
    "        r = requests.get(url, proxies = proxies)\n",
    "    except Exception as e:\n",
    "        print('The request failed')\n",
    "        print('\\n')\n",
    "        print(e)\n",
    "        return None\n",
    "    \n",
    "    if r.status_code != 200:\n",
    "        print(\"Status Code:\", r.status_code)\n",
    "        return None\n",
    "    \n",
    "    #search for the Ip in the request\n",
    "    regex = re.compile(r'(\\d{1,3}\\.\\d{1,3}\\.\\d{1,3}\\.\\d{1,3})')\n",
    "    my_ip = regex.findall(r.text)\n",
    "    \n",
    "    return my_ip[0] if my_ip else None\n",
    "        \n",
    "    "
   ]
  },
  {
   "cell_type": "code",
   "execution_count": 25,
   "metadata": {},
   "outputs": [
    {
     "data": {
      "text/plain": [
       "'186.28.69.25'"
      ]
     },
     "execution_count": 25,
     "metadata": {},
     "output_type": "execute_result"
    }
   ],
   "source": [
    "get_ip()"
   ]
  },
  {
   "cell_type": "code",
   "execution_count": 14,
   "metadata": {},
   "outputs": [],
   "source": [
    "proxy_dict = {'http':'http://51.178.24.220:8080',\n",
    "              'https':'http://51.178.24.220:8080'}"
   ]
  },
  {
   "cell_type": "code",
   "execution_count": 19,
   "metadata": {},
   "outputs": [
    {
     "name": "stdout",
     "output_type": "stream",
     "text": [
      "The request failed\n",
      "\n",
      "\n",
      "HTTPConnectionPool(host='51.178.24.220', port=8080): Max retries exceeded with url: http://www.cualesmiip.com/ (Caused by ProxyError('Cannot connect to proxy.', NewConnectionError('<urllib3.connection.HTTPConnection object at 0x00000000088E6C48>: Failed to establish a new connection: [WinError 10060] Se produjo un error durante el intento de conexión ya que la parte conectada no respondió adecuadamente tras un periodo de tiempo, o bien se produjo un error en la conexión establecida ya que el host conectado no ha podido responder')))\n"
     ]
    }
   ],
   "source": [
    "get_ip(proxies = proxy_dict)"
   ]
  },
  {
   "cell_type": "code",
   "execution_count": 12,
   "metadata": {},
   "outputs": [],
   "source": [
    "socks_dict = {'http':'socks4://88.80.119.227:1080',\n",
    "              'https':'socks4://88.80.119.227:1080'}"
   ]
  },
  {
   "cell_type": "code",
   "execution_count": 17,
   "metadata": {},
   "outputs": [
    {
     "data": {
      "text/plain": [
       "'88.80.119.227'"
      ]
     },
     "execution_count": 17,
     "metadata": {},
     "output_type": "execute_result"
    }
   ],
   "source": [
    "get_ip(proxies = socks_dict)"
   ]
  }
 ],
 "metadata": {
  "kernelspec": {
   "display_name": "ML",
   "language": "python",
   "name": "ml"
  },
  "language_info": {
   "codemirror_mode": {
    "name": "ipython",
    "version": 3
   },
   "file_extension": ".py",
   "mimetype": "text/x-python",
   "name": "python",
   "nbconvert_exporter": "python",
   "pygments_lexer": "ipython3",
   "version": "3.7.6"
  }
 },
 "nbformat": 4,
 "nbformat_minor": 2
}
